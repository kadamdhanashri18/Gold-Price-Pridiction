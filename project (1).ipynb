{
 "cells": [
  {
   "cell_type": "markdown",
   "id": "a8e99a38-6f5b-43dc-a298-5a8267bd38fe",
   "metadata": {},
   "source": [
    "# GOLD PRICE PREDICTION PROJECT USING ML "
   ]
  },
  {
   "cell_type": "markdown",
   "id": "b720cdf0-c27e-42d1-8667-9b4befe5271e",
   "metadata": {},
   "source": [
    "# 1.DATA PREPROCESSING "
   ]
  },
  {
   "cell_type": "code",
   "execution_count": 1,
   "id": "4d162181-6fbb-402c-af2a-80921d0b902e",
   "metadata": {},
   "outputs": [],
   "source": [
    "import pandas as pd\n",
    "import numpy as np\n",
    "import matplotlib.pyplot as plt\n",
    "import seaborn as sns\n",
    "from sklearn.model_selection import train_test_split\n",
    "from sklearn.linear_model import LinearRegression\n",
    "from sklearn.tree import DecisionTreeRegressor\n",
    "from sklearn.ensemble import RandomForestRegressor\n",
    "from sklearn.metrics import mean_absolute_error, mean_squared_error, r2_score\n",
    "from sklearn import metrics\n",
    "from sklearn.model_selection import cross_val_score, KFold\n",
    "from sklearn.svm import SVR\n",
    "import warnings \n",
    "warnings.filterwarnings(\"ignore\")"
   ]
  },
  {
   "cell_type": "code",
   "execution_count": 2,
   "id": "4500403f-6283-4d59-9aca-09793df33dd0",
   "metadata": {},
   "outputs": [
    {
     "data": {
      "text/html": [
       "<div>\n",
       "<style scoped>\n",
       "    .dataframe tbody tr th:only-of-type {\n",
       "        vertical-align: middle;\n",
       "    }\n",
       "\n",
       "    .dataframe tbody tr th {\n",
       "        vertical-align: top;\n",
       "    }\n",
       "\n",
       "    .dataframe thead th {\n",
       "        text-align: right;\n",
       "    }\n",
       "</style>\n",
       "<table border=\"1\" class=\"dataframe\">\n",
       "  <thead>\n",
       "    <tr style=\"text-align: right;\">\n",
       "      <th></th>\n",
       "      <th>Date</th>\n",
       "      <th>SPX</th>\n",
       "      <th>GLD</th>\n",
       "      <th>USO</th>\n",
       "      <th>SLV</th>\n",
       "      <th>EUR/USD</th>\n",
       "    </tr>\n",
       "  </thead>\n",
       "  <tbody>\n",
       "    <tr>\n",
       "      <th>0</th>\n",
       "      <td>1/2/2008</td>\n",
       "      <td>1447.160034</td>\n",
       "      <td>84.860001</td>\n",
       "      <td>78.470001</td>\n",
       "      <td>15.1800</td>\n",
       "      <td>1.471692</td>\n",
       "    </tr>\n",
       "    <tr>\n",
       "      <th>1</th>\n",
       "      <td>1/3/2008</td>\n",
       "      <td>1447.160034</td>\n",
       "      <td>85.570000</td>\n",
       "      <td>78.370003</td>\n",
       "      <td>15.2850</td>\n",
       "      <td>1.474491</td>\n",
       "    </tr>\n",
       "    <tr>\n",
       "      <th>2</th>\n",
       "      <td>1/4/2008</td>\n",
       "      <td>1411.630005</td>\n",
       "      <td>85.129997</td>\n",
       "      <td>77.309998</td>\n",
       "      <td>15.1670</td>\n",
       "      <td>1.475492</td>\n",
       "    </tr>\n",
       "    <tr>\n",
       "      <th>3</th>\n",
       "      <td>1/7/2008</td>\n",
       "      <td>1416.180054</td>\n",
       "      <td>84.769997</td>\n",
       "      <td>75.500000</td>\n",
       "      <td>15.0530</td>\n",
       "      <td>1.468299</td>\n",
       "    </tr>\n",
       "    <tr>\n",
       "      <th>4</th>\n",
       "      <td>1/8/2008</td>\n",
       "      <td>1390.189941</td>\n",
       "      <td>86.779999</td>\n",
       "      <td>76.059998</td>\n",
       "      <td>15.5900</td>\n",
       "      <td>1.557099</td>\n",
       "    </tr>\n",
       "    <tr>\n",
       "      <th>...</th>\n",
       "      <td>...</td>\n",
       "      <td>...</td>\n",
       "      <td>...</td>\n",
       "      <td>...</td>\n",
       "      <td>...</td>\n",
       "      <td>...</td>\n",
       "    </tr>\n",
       "    <tr>\n",
       "      <th>2285</th>\n",
       "      <td>5/8/2018</td>\n",
       "      <td>2671.919922</td>\n",
       "      <td>124.589996</td>\n",
       "      <td>14.060000</td>\n",
       "      <td>15.5100</td>\n",
       "      <td>1.186789</td>\n",
       "    </tr>\n",
       "    <tr>\n",
       "      <th>2286</th>\n",
       "      <td>5/9/2018</td>\n",
       "      <td>2697.790039</td>\n",
       "      <td>124.330002</td>\n",
       "      <td>14.370000</td>\n",
       "      <td>15.5300</td>\n",
       "      <td>1.184722</td>\n",
       "    </tr>\n",
       "    <tr>\n",
       "      <th>2287</th>\n",
       "      <td>5/10/2018</td>\n",
       "      <td>2723.070068</td>\n",
       "      <td>125.180000</td>\n",
       "      <td>14.410000</td>\n",
       "      <td>15.7400</td>\n",
       "      <td>1.191753</td>\n",
       "    </tr>\n",
       "    <tr>\n",
       "      <th>2288</th>\n",
       "      <td>5/14/2018</td>\n",
       "      <td>2730.129883</td>\n",
       "      <td>124.489998</td>\n",
       "      <td>14.380000</td>\n",
       "      <td>15.5600</td>\n",
       "      <td>1.193118</td>\n",
       "    </tr>\n",
       "    <tr>\n",
       "      <th>2289</th>\n",
       "      <td>5/16/2018</td>\n",
       "      <td>2725.780029</td>\n",
       "      <td>122.543800</td>\n",
       "      <td>14.405800</td>\n",
       "      <td>15.4542</td>\n",
       "      <td>1.182033</td>\n",
       "    </tr>\n",
       "  </tbody>\n",
       "</table>\n",
       "<p>2290 rows × 6 columns</p>\n",
       "</div>"
      ],
      "text/plain": [
       "           Date          SPX         GLD        USO      SLV   EUR/USD\n",
       "0      1/2/2008  1447.160034   84.860001  78.470001  15.1800  1.471692\n",
       "1      1/3/2008  1447.160034   85.570000  78.370003  15.2850  1.474491\n",
       "2      1/4/2008  1411.630005   85.129997  77.309998  15.1670  1.475492\n",
       "3      1/7/2008  1416.180054   84.769997  75.500000  15.0530  1.468299\n",
       "4      1/8/2008  1390.189941   86.779999  76.059998  15.5900  1.557099\n",
       "...         ...          ...         ...        ...      ...       ...\n",
       "2285   5/8/2018  2671.919922  124.589996  14.060000  15.5100  1.186789\n",
       "2286   5/9/2018  2697.790039  124.330002  14.370000  15.5300  1.184722\n",
       "2287  5/10/2018  2723.070068  125.180000  14.410000  15.7400  1.191753\n",
       "2288  5/14/2018  2730.129883  124.489998  14.380000  15.5600  1.193118\n",
       "2289  5/16/2018  2725.780029  122.543800  14.405800  15.4542  1.182033\n",
       "\n",
       "[2290 rows x 6 columns]"
      ]
     },
     "execution_count": 2,
     "metadata": {},
     "output_type": "execute_result"
    }
   ],
   "source": [
    "# create data frame to read dataset \n",
    "\n",
    "df = pd.read_csv('gld_price_data.csv')\n",
    "df"
   ]
  },
  {
   "cell_type": "code",
   "execution_count": 3,
   "id": "fd38d176-60fb-43aa-8c17-5dcf9fca608e",
   "metadata": {},
   "outputs": [
    {
     "data": {
      "text/html": [
       "<div>\n",
       "<style scoped>\n",
       "    .dataframe tbody tr th:only-of-type {\n",
       "        vertical-align: middle;\n",
       "    }\n",
       "\n",
       "    .dataframe tbody tr th {\n",
       "        vertical-align: top;\n",
       "    }\n",
       "\n",
       "    .dataframe thead th {\n",
       "        text-align: right;\n",
       "    }\n",
       "</style>\n",
       "<table border=\"1\" class=\"dataframe\">\n",
       "  <thead>\n",
       "    <tr style=\"text-align: right;\">\n",
       "      <th></th>\n",
       "      <th>Date</th>\n",
       "      <th>SPX</th>\n",
       "      <th>GLD</th>\n",
       "      <th>USO</th>\n",
       "      <th>SLV</th>\n",
       "      <th>EUR/USD</th>\n",
       "    </tr>\n",
       "  </thead>\n",
       "  <tbody>\n",
       "    <tr>\n",
       "      <th>0</th>\n",
       "      <td>1/2/2008</td>\n",
       "      <td>1447.160034</td>\n",
       "      <td>84.860001</td>\n",
       "      <td>78.470001</td>\n",
       "      <td>15.180</td>\n",
       "      <td>1.471692</td>\n",
       "    </tr>\n",
       "    <tr>\n",
       "      <th>1</th>\n",
       "      <td>1/3/2008</td>\n",
       "      <td>1447.160034</td>\n",
       "      <td>85.570000</td>\n",
       "      <td>78.370003</td>\n",
       "      <td>15.285</td>\n",
       "      <td>1.474491</td>\n",
       "    </tr>\n",
       "    <tr>\n",
       "      <th>2</th>\n",
       "      <td>1/4/2008</td>\n",
       "      <td>1411.630005</td>\n",
       "      <td>85.129997</td>\n",
       "      <td>77.309998</td>\n",
       "      <td>15.167</td>\n",
       "      <td>1.475492</td>\n",
       "    </tr>\n",
       "    <tr>\n",
       "      <th>3</th>\n",
       "      <td>1/7/2008</td>\n",
       "      <td>1416.180054</td>\n",
       "      <td>84.769997</td>\n",
       "      <td>75.500000</td>\n",
       "      <td>15.053</td>\n",
       "      <td>1.468299</td>\n",
       "    </tr>\n",
       "    <tr>\n",
       "      <th>4</th>\n",
       "      <td>1/8/2008</td>\n",
       "      <td>1390.189941</td>\n",
       "      <td>86.779999</td>\n",
       "      <td>76.059998</td>\n",
       "      <td>15.590</td>\n",
       "      <td>1.557099</td>\n",
       "    </tr>\n",
       "  </tbody>\n",
       "</table>\n",
       "</div>"
      ],
      "text/plain": [
       "       Date          SPX        GLD        USO     SLV   EUR/USD\n",
       "0  1/2/2008  1447.160034  84.860001  78.470001  15.180  1.471692\n",
       "1  1/3/2008  1447.160034  85.570000  78.370003  15.285  1.474491\n",
       "2  1/4/2008  1411.630005  85.129997  77.309998  15.167  1.475492\n",
       "3  1/7/2008  1416.180054  84.769997  75.500000  15.053  1.468299\n",
       "4  1/8/2008  1390.189941  86.779999  76.059998  15.590  1.557099"
      ]
     },
     "execution_count": 3,
     "metadata": {},
     "output_type": "execute_result"
    }
   ],
   "source": [
    "df.head()"
   ]
  },
  {
   "cell_type": "code",
   "execution_count": 4,
   "id": "225be99c-34a0-47de-a7cd-8532e66c98a7",
   "metadata": {},
   "outputs": [
    {
     "data": {
      "text/html": [
       "<div>\n",
       "<style scoped>\n",
       "    .dataframe tbody tr th:only-of-type {\n",
       "        vertical-align: middle;\n",
       "    }\n",
       "\n",
       "    .dataframe tbody tr th {\n",
       "        vertical-align: top;\n",
       "    }\n",
       "\n",
       "    .dataframe thead th {\n",
       "        text-align: right;\n",
       "    }\n",
       "</style>\n",
       "<table border=\"1\" class=\"dataframe\">\n",
       "  <thead>\n",
       "    <tr style=\"text-align: right;\">\n",
       "      <th></th>\n",
       "      <th>Date</th>\n",
       "      <th>SPX</th>\n",
       "      <th>GLD</th>\n",
       "      <th>USO</th>\n",
       "      <th>SLV</th>\n",
       "      <th>EUR/USD</th>\n",
       "    </tr>\n",
       "  </thead>\n",
       "  <tbody>\n",
       "    <tr>\n",
       "      <th>2285</th>\n",
       "      <td>5/8/2018</td>\n",
       "      <td>2671.919922</td>\n",
       "      <td>124.589996</td>\n",
       "      <td>14.0600</td>\n",
       "      <td>15.5100</td>\n",
       "      <td>1.186789</td>\n",
       "    </tr>\n",
       "    <tr>\n",
       "      <th>2286</th>\n",
       "      <td>5/9/2018</td>\n",
       "      <td>2697.790039</td>\n",
       "      <td>124.330002</td>\n",
       "      <td>14.3700</td>\n",
       "      <td>15.5300</td>\n",
       "      <td>1.184722</td>\n",
       "    </tr>\n",
       "    <tr>\n",
       "      <th>2287</th>\n",
       "      <td>5/10/2018</td>\n",
       "      <td>2723.070068</td>\n",
       "      <td>125.180000</td>\n",
       "      <td>14.4100</td>\n",
       "      <td>15.7400</td>\n",
       "      <td>1.191753</td>\n",
       "    </tr>\n",
       "    <tr>\n",
       "      <th>2288</th>\n",
       "      <td>5/14/2018</td>\n",
       "      <td>2730.129883</td>\n",
       "      <td>124.489998</td>\n",
       "      <td>14.3800</td>\n",
       "      <td>15.5600</td>\n",
       "      <td>1.193118</td>\n",
       "    </tr>\n",
       "    <tr>\n",
       "      <th>2289</th>\n",
       "      <td>5/16/2018</td>\n",
       "      <td>2725.780029</td>\n",
       "      <td>122.543800</td>\n",
       "      <td>14.4058</td>\n",
       "      <td>15.4542</td>\n",
       "      <td>1.182033</td>\n",
       "    </tr>\n",
       "  </tbody>\n",
       "</table>\n",
       "</div>"
      ],
      "text/plain": [
       "           Date          SPX         GLD      USO      SLV   EUR/USD\n",
       "2285   5/8/2018  2671.919922  124.589996  14.0600  15.5100  1.186789\n",
       "2286   5/9/2018  2697.790039  124.330002  14.3700  15.5300  1.184722\n",
       "2287  5/10/2018  2723.070068  125.180000  14.4100  15.7400  1.191753\n",
       "2288  5/14/2018  2730.129883  124.489998  14.3800  15.5600  1.193118\n",
       "2289  5/16/2018  2725.780029  122.543800  14.4058  15.4542  1.182033"
      ]
     },
     "execution_count": 4,
     "metadata": {},
     "output_type": "execute_result"
    }
   ],
   "source": [
    "df.tail()"
   ]
  },
  {
   "cell_type": "code",
   "execution_count": 5,
   "id": "8992468d-c4e4-4d0d-8389-04d6db3942d2",
   "metadata": {},
   "outputs": [
    {
     "name": "stdout",
     "output_type": "stream",
     "text": [
      "<class 'pandas.core.frame.DataFrame'>\n",
      "RangeIndex: 2290 entries, 0 to 2289\n",
      "Data columns (total 6 columns):\n",
      " #   Column   Non-Null Count  Dtype  \n",
      "---  ------   --------------  -----  \n",
      " 0   Date     2290 non-null   object \n",
      " 1   SPX      2290 non-null   float64\n",
      " 2   GLD      2290 non-null   float64\n",
      " 3   USO      2290 non-null   float64\n",
      " 4   SLV      2290 non-null   float64\n",
      " 5   EUR/USD  2290 non-null   float64\n",
      "dtypes: float64(5), object(1)\n",
      "memory usage: 107.5+ KB\n"
     ]
    }
   ],
   "source": [
    "# to check the df structure\n",
    "\n",
    "df.info()"
   ]
  },
  {
   "cell_type": "code",
   "execution_count": 6,
   "id": "533799ab-f0e7-4575-8f58-6a466d98a9ef",
   "metadata": {},
   "outputs": [
    {
     "data": {
      "text/plain": [
       "(2290, 6)"
      ]
     },
     "execution_count": 6,
     "metadata": {},
     "output_type": "execute_result"
    }
   ],
   "source": [
    "# find numbers of rows and column\n",
    "\n",
    "df.shape"
   ]
  },
  {
   "cell_type": "code",
   "execution_count": 7,
   "id": "3f9fdc98-a620-4a77-922c-3e8fc1e7cc35",
   "metadata": {},
   "outputs": [
    {
     "data": {
      "text/plain": [
       "0"
      ]
     },
     "execution_count": 7,
     "metadata": {},
     "output_type": "execute_result"
    }
   ],
   "source": [
    "df.isnull().sum().sum()"
   ]
  },
  {
   "cell_type": "code",
   "execution_count": 8,
   "id": "9b33b030-a8a9-416f-a824-22e5a7573a9c",
   "metadata": {},
   "outputs": [
    {
     "data": {
      "text/html": [
       "<div>\n",
       "<style scoped>\n",
       "    .dataframe tbody tr th:only-of-type {\n",
       "        vertical-align: middle;\n",
       "    }\n",
       "\n",
       "    .dataframe tbody tr th {\n",
       "        vertical-align: top;\n",
       "    }\n",
       "\n",
       "    .dataframe thead th {\n",
       "        text-align: right;\n",
       "    }\n",
       "</style>\n",
       "<table border=\"1\" class=\"dataframe\">\n",
       "  <thead>\n",
       "    <tr style=\"text-align: right;\">\n",
       "      <th></th>\n",
       "      <th>SPX</th>\n",
       "      <th>GLD</th>\n",
       "      <th>USO</th>\n",
       "      <th>SLV</th>\n",
       "      <th>EUR/USD</th>\n",
       "    </tr>\n",
       "  </thead>\n",
       "  <tbody>\n",
       "    <tr>\n",
       "      <th>count</th>\n",
       "      <td>2290.000000</td>\n",
       "      <td>2290.000000</td>\n",
       "      <td>2290.000000</td>\n",
       "      <td>2290.000000</td>\n",
       "      <td>2290.000000</td>\n",
       "    </tr>\n",
       "    <tr>\n",
       "      <th>mean</th>\n",
       "      <td>1654.315776</td>\n",
       "      <td>122.732875</td>\n",
       "      <td>31.842221</td>\n",
       "      <td>20.084997</td>\n",
       "      <td>1.283653</td>\n",
       "    </tr>\n",
       "    <tr>\n",
       "      <th>std</th>\n",
       "      <td>519.111540</td>\n",
       "      <td>23.283346</td>\n",
       "      <td>19.523517</td>\n",
       "      <td>7.092566</td>\n",
       "      <td>0.131547</td>\n",
       "    </tr>\n",
       "    <tr>\n",
       "      <th>min</th>\n",
       "      <td>676.530029</td>\n",
       "      <td>70.000000</td>\n",
       "      <td>7.960000</td>\n",
       "      <td>8.850000</td>\n",
       "      <td>1.039047</td>\n",
       "    </tr>\n",
       "    <tr>\n",
       "      <th>25%</th>\n",
       "      <td>1239.874969</td>\n",
       "      <td>109.725000</td>\n",
       "      <td>14.380000</td>\n",
       "      <td>15.570000</td>\n",
       "      <td>1.171313</td>\n",
       "    </tr>\n",
       "    <tr>\n",
       "      <th>50%</th>\n",
       "      <td>1551.434998</td>\n",
       "      <td>120.580002</td>\n",
       "      <td>33.869999</td>\n",
       "      <td>17.268500</td>\n",
       "      <td>1.303297</td>\n",
       "    </tr>\n",
       "    <tr>\n",
       "      <th>75%</th>\n",
       "      <td>2073.010070</td>\n",
       "      <td>132.840004</td>\n",
       "      <td>37.827501</td>\n",
       "      <td>22.882500</td>\n",
       "      <td>1.369971</td>\n",
       "    </tr>\n",
       "    <tr>\n",
       "      <th>max</th>\n",
       "      <td>2872.870117</td>\n",
       "      <td>184.589996</td>\n",
       "      <td>117.480003</td>\n",
       "      <td>47.259998</td>\n",
       "      <td>1.598798</td>\n",
       "    </tr>\n",
       "  </tbody>\n",
       "</table>\n",
       "</div>"
      ],
      "text/plain": [
       "               SPX          GLD          USO          SLV      EUR/USD\n",
       "count  2290.000000  2290.000000  2290.000000  2290.000000  2290.000000\n",
       "mean   1654.315776   122.732875    31.842221    20.084997     1.283653\n",
       "std     519.111540    23.283346    19.523517     7.092566     0.131547\n",
       "min     676.530029    70.000000     7.960000     8.850000     1.039047\n",
       "25%    1239.874969   109.725000    14.380000    15.570000     1.171313\n",
       "50%    1551.434998   120.580002    33.869999    17.268500     1.303297\n",
       "75%    2073.010070   132.840004    37.827501    22.882500     1.369971\n",
       "max    2872.870117   184.589996   117.480003    47.259998     1.598798"
      ]
     },
     "execution_count": 8,
     "metadata": {},
     "output_type": "execute_result"
    }
   ],
   "source": [
    "#describe of numerical columns\n",
    "\n",
    "df.describe()"
   ]
  },
  {
   "cell_type": "markdown",
   "id": "5b15f97c-b2a3-44bf-8d1e-c35c4b66c5b6",
   "metadata": {},
   "source": [
    "# 2.DATA VISUALIZATION "
   ]
  },
  {
   "cell_type": "code",
   "execution_count": 9,
   "id": "af4fc0de-843a-41bf-bf0f-b03c094e17c6",
   "metadata": {},
   "outputs": [
    {
     "data": {
      "image/png": "[encoded data removed]",
      "text/plain": [
       "<Figure size 1000x600 with 4 Axes>"
      ]
     },
     "metadata": {},
     "output_type": "display_data"
    }
   ],
   "source": [
    "# Plotting\n",
    "plt.figure(figsize=(10, 6))\n",
    "\n",
    "# Line plot of SPX over time\n",
    "plt.subplot(2, 2, 1)\n",
    "plt.plot(df['SPX'], marker='o', linestyle='-')\n",
    "plt.title('SPX')\n",
    "\n",
    "# Distribution plot of GLD\n",
    "plt.subplot(2, 2, 2)\n",
    "sns.histplot(df['GLD'], bins=10, kde=True)\n",
    "plt.title('GLD')\n",
    "\n",
    "# Scatter plot of SPX vs EUR/USD\n",
    "plt.subplot(2, 2, 3)\n",
    "plt.scatter(df['SPX'], df['EUR/USD'], marker='o')\n",
    "plt.xlabel('SPX')\n",
    "plt.ylabel('EUR/USD')\n",
    "plt.title('SPX vs EUR/USD')\n",
    "# Boxplot of USO\n",
    "plt.subplot(2, 2, 4)\n",
    "sns.boxplot(y=df['USO'])\n",
    "plt.title('USO')\n",
    "\n",
    "plt.tight_layout()\n",
    "plt.show()"
   ]
  },
  {
   "cell_type": "code",
   "execution_count": 10,
   "id": "97d28462-5617-48b7-a9aa-07db3d2d771c",
   "metadata": {},
   "outputs": [],
   "source": [
    "name3 = list(df.columns[1:])"
   ]
  },
  {
   "cell_type": "code",
   "execution_count": 11,
   "id": "53e13632-d456-4641-8b55-aa1cec729fd3",
   "metadata": {},
   "outputs": [],
   "source": [
    "def plot_seaborn(n1):\n",
    "    plt.figure(figsize=(13, 8))\n",
    "    for i in range(len(n1)):\n",
    "        plt.subplot(2, 3, i+1)\n",
    "        sns.histplot(df[n1[i]], kde=True)\n",
    "        plt.title(f'Distribution of {n1[i]}')\n",
    "    plt.tight_layout()\n",
    "    plt.show()\n",
    "    "
   ]
  },
  {
   "cell_type": "code",
   "execution_count": 12,
   "id": "92a1d638-36b7-4837-a145-924f1902720a",
   "metadata": {},
   "outputs": [
    {
     "data": {
      "image/png": "[encoded data removed]",
      "text/plain": [
       "<Figure size 1300x800 with 5 Axes>"
      ]
     },
     "metadata": {},
     "output_type": "display_data"
    }
   ],
   "source": [
    "plot_seaborn(name3)"
   ]
  },
  {
   "cell_type": "code",
   "execution_count": 13,
   "id": "75cf6814-10f3-4185-bd95-af2483cb8d18",
   "metadata": {},
   "outputs": [],
   "source": [
    "df['Date'] = pd.to_datetime(df['Date'])"
   ]
  },
  {
   "cell_type": "code",
   "execution_count": 14,
   "id": "510ce9fc-e8cd-4dee-b531-a820954e753f",
   "metadata": {},
   "outputs": [],
   "source": [
    "correlation = df.corr()"
   ]
  },
  {
   "cell_type": "code",
   "execution_count": 15,
   "id": "54c21a78-d103-415c-8270-d4e2845051f4",
   "metadata": {},
   "outputs": [
    {
     "data": {
      "text/plain": [
       "<Axes: >"
      ]
     },
     "execution_count": 15,
     "metadata": {},
     "output_type": "execute_result"
    },
    {
     "data": {
      "image/png": "[encoded data removed]",
      "text/plain": [
       "<Figure size 800x800 with 2 Axes>"
      ]
     },
     "metadata": {},
     "output_type": "display_data"
    }
   ],
   "source": [
    "plt.figure(figsize=(8,8))\n",
    "sns.heatmap(correlation,cbar=True,annot=True,fmt=\".1f\",annot_kws={\"size\":8})"
   ]
  },
  {
   "cell_type": "code",
   "execution_count": 16,
   "id": "69b7d360-a256-4665-bd68-d100b038aace",
   "metadata": {},
   "outputs": [],
   "source": [
    "df['Date'] = pd.to_datetime(df['Date'])\n",
    "\n",
    "df['Year'] = df['Date'].dt.year\n",
    "df['Month'] = df['Date'].dt.month\n",
    "df['Day'] = df['Date'].dt.day"
   ]
  },
  {
   "cell_type": "code",
   "execution_count": 17,
   "id": "d923373e-8d82-439f-933b-9613d922f815",
   "metadata": {},
   "outputs": [],
   "source": [
    "months_dict = {\n",
    "    1: \"January\",\n",
    "    2: \"February\",\n",
    "    3: \"March\",\n",
    "    4: \"April\",\n",
    "    5: \"May\",\n",
    "    6: \"June\",\n",
    "    7: \"July\",\n",
    "    8: \"August\",\n",
    "    9: \"September\",\n",
    "    10: \"October\",\n",
    "    11: \"November\",\n",
    "    12: \"December\"\n",
    "}\n",
    "\n",
    "df['Month Name'] = list(map(lambda x: months_dict[x], df['Month']))"
   ]
  },
  {
   "cell_type": "code",
   "execution_count": 18,
   "id": "1b2877ac-1423-40c3-b1fa-0b1f32097fc2",
   "metadata": {},
   "outputs": [
    {
     "data": {
      "text/plain": [
       "[2008, 2009, 2010, 2011, 2012, 2013, 2014, 2015, 2016, 2017, 2018]"
      ]
     },
     "execution_count": 18,
     "metadata": {},
     "output_type": "execute_result"
    }
   ],
   "source": [
    "years = []\n",
    "for i in df['Year']:\n",
    "    if i not in years:\n",
    "        years.append(i)\n",
    "years"
   ]
  },
  {
   "cell_type": "code",
   "execution_count": 19,
   "id": "6dec58ad-c3d6-48b1-9102-106ea28d3b8d",
   "metadata": {},
   "outputs": [],
   "source": [
    "def bar_plot(n,num,n2):\n",
    "    plt.figure(figsize=(20, 25))\n",
    "    \n",
    "    for i in range(len(num)):\n",
    "        plt.subplot(6, 3, i+1)\n",
    "        \n",
    "        df4=df3[df3['Year']==num[i]]\n",
    "        plt.barh(df4['Month Name'],df4[n2])\n",
    "        plt.title(f'{n} in {num[i]}')\n",
    "    plt.show()"
   ]
  },
  {
   "cell_type": "markdown",
   "id": "74df3fab-d80a-491b-9343-e21e256cfa4e",
   "metadata": {},
   "source": [
    "# 3.Split "
   ]
  },
  {
   "cell_type": "code",
   "execution_count": 20,
   "id": "16387ce3-486b-4d9d-9ad9-0fae639ad814",
   "metadata": {},
   "outputs": [],
   "source": [
    "X = df.drop(['Date','GLD','USO','Month Name','Year', 'Month', 'Day'],axis=1)\n",
    "y= df['GLD']"
   ]
  },
  {
   "cell_type": "code",
   "execution_count": 21,
   "id": "e55aaf72-7a11-4865-a5e9-51f0c0674c17",
   "metadata": {},
   "outputs": [],
   "source": [
    "from sklearn.model_selection import train_test_split\n",
    "X_train,X_test,y_train,y_test = train_test_split(X,y,test_size=0.2,random_state=123)"
   ]
  },
  {
   "cell_type": "code",
   "execution_count": 22,
   "id": "36ed6f35-118e-4d56-bdf0-28f441ebb9db",
   "metadata": {},
   "outputs": [],
   "source": [
    "from sklearn.preprocessing import StandardScaler\n",
    "ss = StandardScaler()"
   ]
  },
  {
   "cell_type": "markdown",
   "id": "b89b2989-dc7b-4490-a420-30c18d698fc4",
   "metadata": {},
   "source": [
    "# 4.Feature Scaling "
   ]
  },
  {
   "cell_type": "code",
   "execution_count": 23,
   "id": "09c24b37-0594-4301-b589-22a22aea1c16",
   "metadata": {},
   "outputs": [],
   "source": [
    "scaler = StandardScaler()"
   ]
  },
  {
   "cell_type": "code",
   "execution_count": 24,
   "id": "1ab21df4-3a51-4760-a6c4-0d1f420ddb92",
   "metadata": {},
   "outputs": [
    {
     "data": {
      "text/html": [
       "<style>#sk-container-id-1 {color: black;background-color: white;}#sk-container-id-1 pre{padding: 0;}#sk-container-id-1 div.sk-toggleable {background-color: white;}#sk-container-id-1 label.sk-toggleable__label {cursor: pointer;display: block;width: 100%;margin-bottom: 0;padding: 0.3em;box-sizing: border-box;text-align: center;}#sk-container-id-1 label.sk-toggleable__label-arrow:before {content: \"▸\";float: left;margin-right: 0.25em;color: #696969;}#sk-container-id-1 label.sk-toggleable__label-arrow:hover:before {color: black;}#sk-container-id-1 div.sk-estimator:hover label.sk-toggleable__label-arrow:before {color: black;}#sk-container-id-1 div.sk-toggleable__content {max-height: 0;max-width: 0;overflow: hidden;text-align: left;background-color: #f0f8ff;}#sk-container-id-1 div.sk-toggleable__content pre {margin: 0.2em;color: black;border-radius: 0.25em;background-color: #f0f8ff;}#sk-container-id-1 input.sk-toggleable__control:checked~div.sk-toggleable__content {max-height: 200px;max-width: 100%;overflow: auto;}#sk-container-id-1 input.sk-toggleable__control:checked~label.sk-toggleable__label-arrow:before {content: \"▾\";}#sk-container-id-1 div.sk-estimator input.sk-toggleable__control:checked~label.sk-toggleable__label {background-color: #d4ebff;}#sk-container-id-1 div.sk-label input.sk-toggleable__control:checked~label.sk-toggleable__label {background-color: #d4ebff;}#sk-container-id-1 input.sk-hidden--visually {border: 0;clip: rect(1px 1px 1px 1px);clip: rect(1px, 1px, 1px, 1px);height: 1px;margin: -1px;overflow: hidden;padding: 0;position: absolute;width: 1px;}#sk-container-id-1 div.sk-estimator {font-family: monospace;background-color: #f0f8ff;border: 1px dotted black;border-radius: 0.25em;box-sizing: border-box;margin-bottom: 0.5em;}#sk-container-id-1 div.sk-estimator:hover {background-color: #d4ebff;}#sk-container-id-1 div.sk-parallel-item::after {content: \"\";width: 100%;border-bottom: 1px solid gray;flex-grow: 1;}#sk-container-id-1 div.sk-label:hover label.sk-toggleable__label {background-color: #d4ebff;}#sk-container-id-1 div.sk-serial::before {content: \"\";position: absolute;border-left: 1px solid gray;box-sizing: border-box;top: 0;bottom: 0;left: 50%;z-index: 0;}#sk-container-id-1 div.sk-serial {display: flex;flex-direction: column;align-items: center;background-color: white;padding-right: 0.2em;padding-left: 0.2em;position: relative;}#sk-container-id-1 div.sk-item {position: relative;z-index: 1;}#sk-container-id-1 div.sk-parallel {display: flex;align-items: stretch;justify-content: center;background-color: white;position: relative;}#sk-container-id-1 div.sk-item::before, #sk-container-id-1 div.sk-parallel-item::before {content: \"\";position: absolute;border-left: 1px solid gray;box-sizing: border-box;top: 0;bottom: 0;left: 50%;z-index: -1;}#sk-container-id-1 div.sk-parallel-item {display: flex;flex-direction: column;z-index: 1;position: relative;background-color: white;}#sk-container-id-1 div.sk-parallel-item:first-child::after {align-self: flex-end;width: 50%;}#sk-container-id-1 div.sk-parallel-item:last-child::after {align-self: flex-start;width: 50%;}#sk-container-id-1 div.sk-parallel-item:only-child::after {width: 0;}#sk-container-id-1 div.sk-dashed-wrapped {border: 1px dashed gray;margin: 0 0.4em 0.5em 0.4em;box-sizing: border-box;padding-bottom: 0.4em;background-color: white;}#sk-container-id-1 div.sk-label label {font-family: monospace;font-weight: bold;display: inline-block;line-height: 1.2em;}#sk-container-id-1 div.sk-label-container {text-align: center;}#sk-container-id-1 div.sk-container {/* jupyter's `normalize.less` sets `[hidden] { display: none; }` but bootstrap.min.css set `[hidden] { display: none !important; }` so we also need the `!important` here to be able to override the default hidden behavior on the sphinx rendered scikit-learn.org. See: https://github.com/scikit-learn/scikit-learn/issues/21755 */display: inline-block !important;position: relative;}#sk-container-id-1 div.sk-text-repr-fallback {display: none;}</style><div id=\"sk-container-id-1\" class=\"sk-top-container\"><div class=\"sk-text-repr-fallback\"><pre>StandardScaler()</pre><b>In a Jupyter environment, please rerun this cell to show the HTML representation or trust the notebook. <br />On GitHub, the HTML representation is unable to render, please try loading this page with nbviewer.org.</b></div><div class=\"sk-container\" hidden><div class=\"sk-item\"><div class=\"sk-estimator sk-toggleable\"><input class=\"sk-toggleable__control sk-hidden--visually\" id=\"sk-estimator-id-1\" type=\"checkbox\" checked><label for=\"sk-estimator-id-1\" class=\"sk-toggleable__label sk-toggleable__label-arrow\">StandardScaler</label><div class=\"sk-toggleable__content\"><pre>StandardScaler()</pre></div></div></div></div></div>"
      ],
      "text/plain": [
       "StandardScaler()"
      ]
     },
     "execution_count": 24,
     "metadata": {},
     "output_type": "execute_result"
    }
   ],
   "source": [
    "scaler.fit(X)"
   ]
  },
  {
   "cell_type": "markdown",
   "id": "86eac825-9494-450a-ba64-7f3bc06e0c6c",
   "metadata": {},
   "source": [
    "# 5.Ml Models "
   ]
  },
  {
   "cell_type": "code",
   "execution_count": 25,
   "id": "0a92f15a-d9b0-4248-b4c0-24e5bd964eab",
   "metadata": {},
   "outputs": [],
   "source": [
    "lr = LinearRegression()"
   ]
  },
  {
   "cell_type": "code",
   "execution_count": 26,
   "id": "18fe738f-e88c-430c-af76-4522032ffe5d",
   "metadata": {},
   "outputs": [
    {
     "data": {
      "text/html": [
       "<style>#sk-container-id-2 {color: black;background-color: white;}#sk-container-id-2 pre{padding: 0;}#sk-container-id-2 div.sk-toggleable {background-color: white;}#sk-container-id-2 label.sk-toggleable__label {cursor: pointer;display: block;width: 100%;margin-bottom: 0;padding: 0.3em;box-sizing: border-box;text-align: center;}#sk-container-id-2 label.sk-toggleable__label-arrow:before {content: \"▸\";float: left;margin-right: 0.25em;color: #696969;}#sk-container-id-2 label.sk-toggleable__label-arrow:hover:before {color: black;}#sk-container-id-2 div.sk-estimator:hover label.sk-toggleable__label-arrow:before {color: black;}#sk-container-id-2 div.sk-toggleable__content {max-height: 0;max-width: 0;overflow: hidden;text-align: left;background-color: #f0f8ff;}#sk-container-id-2 div.sk-toggleable__content pre {margin: 0.2em;color: black;border-radius: 0.25em;background-color: #f0f8ff;}#sk-container-id-2 input.sk-toggleable__control:checked~div.sk-toggleable__content {max-height: 200px;max-width: 100%;overflow: auto;}#sk-container-id-2 input.sk-toggleable__control:checked~label.sk-toggleable__label-arrow:before {content: \"▾\";}#sk-container-id-2 div.sk-estimator input.sk-toggleable__control:checked~label.sk-toggleable__label {background-color: #d4ebff;}#sk-container-id-2 div.sk-label input.sk-toggleable__control:checked~label.sk-toggleable__label {background-color: #d4ebff;}#sk-container-id-2 input.sk-hidden--visually {border: 0;clip: rect(1px 1px 1px 1px);clip: rect(1px, 1px, 1px, 1px);height: 1px;margin: -1px;overflow: hidden;padding: 0;position: absolute;width: 1px;}#sk-container-id-2 div.sk-estimator {font-family: monospace;background-color: #f0f8ff;border: 1px dotted black;border-radius: 0.25em;box-sizing: border-box;margin-bottom: 0.5em;}#sk-container-id-2 div.sk-estimator:hover {background-color: #d4ebff;}#sk-container-id-2 div.sk-parallel-item::after {content: \"\";width: 100%;border-bottom: 1px solid gray;flex-grow: 1;}#sk-container-id-2 div.sk-label:hover label.sk-toggleable__label {background-color: #d4ebff;}#sk-container-id-2 div.sk-serial::before {content: \"\";position: absolute;border-left: 1px solid gray;box-sizing: border-box;top: 0;bottom: 0;left: 50%;z-index: 0;}#sk-container-id-2 div.sk-serial {display: flex;flex-direction: column;align-items: center;background-color: white;padding-right: 0.2em;padding-left: 0.2em;position: relative;}#sk-container-id-2 div.sk-item {position: relative;z-index: 1;}#sk-container-id-2 div.sk-parallel {display: flex;align-items: stretch;justify-content: center;background-color: white;position: relative;}#sk-container-id-2 div.sk-item::before, #sk-container-id-2 div.sk-parallel-item::before {content: \"\";position: absolute;border-left: 1px solid gray;box-sizing: border-box;top: 0;bottom: 0;left: 50%;z-index: -1;}#sk-container-id-2 div.sk-parallel-item {display: flex;flex-direction: column;z-index: 1;position: relative;background-color: white;}#sk-container-id-2 div.sk-parallel-item:first-child::after {align-self: flex-end;width: 50%;}#sk-container-id-2 div.sk-parallel-item:last-child::after {align-self: flex-start;width: 50%;}#sk-container-id-2 div.sk-parallel-item:only-child::after {width: 0;}#sk-container-id-2 div.sk-dashed-wrapped {border: 1px dashed gray;margin: 0 0.4em 0.5em 0.4em;box-sizing: border-box;padding-bottom: 0.4em;background-color: white;}#sk-container-id-2 div.sk-label label {font-family: monospace;font-weight: bold;display: inline-block;line-height: 1.2em;}#sk-container-id-2 div.sk-label-container {text-align: center;}#sk-container-id-2 div.sk-container {/* jupyter's `normalize.less` sets `[hidden] { display: none; }` but bootstrap.min.css set `[hidden] { display: none !important; }` so we also need the `!important` here to be able to override the default hidden behavior on the sphinx rendered scikit-learn.org. See: https://github.com/scikit-learn/scikit-learn/issues/21755 */display: inline-block !important;position: relative;}#sk-container-id-2 div.sk-text-repr-fallback {display: none;}</style><div id=\"sk-container-id-2\" class=\"sk-top-container\"><div class=\"sk-text-repr-fallback\"><pre>LinearRegression()</pre><b>In a Jupyter environment, please rerun this cell to show the HTML representation or trust the notebook. <br />On GitHub, the HTML representation is unable to render, please try loading this page with nbviewer.org.</b></div><div class=\"sk-container\" hidden><div class=\"sk-item\"><div class=\"sk-estimator sk-toggleable\"><input class=\"sk-toggleable__control sk-hidden--visually\" id=\"sk-estimator-id-2\" type=\"checkbox\" checked><label for=\"sk-estimator-id-2\" class=\"sk-toggleable__label sk-toggleable__label-arrow\">LinearRegression</label><div class=\"sk-toggleable__content\"><pre>LinearRegression()</pre></div></div></div></div></div>"
      ],
      "text/plain": [
       "LinearRegression()"
      ]
     },
     "execution_count": 26,
     "metadata": {},
     "output_type": "execute_result"
    }
   ],
   "source": [
    "lr.fit(X_train,y_train)"
   ]
  },
  {
   "cell_type": "code",
   "execution_count": 27,
   "id": "885018e6-0dab-4413-9b52-52bed417d22b",
   "metadata": {},
   "outputs": [
    {
     "data": {
      "text/plain": [
       "array([ 7.50677173e-03,  3.25207608e+00, -4.11803663e+01])"
      ]
     },
     "execution_count": 27,
     "metadata": {},
     "output_type": "execute_result"
    }
   ],
   "source": [
    "lr.coef_"
   ]
  },
  {
   "cell_type": "code",
   "execution_count": 28,
   "id": "39c8373a-af77-48a7-b024-82a324d0755a",
   "metadata": {},
   "outputs": [
    {
     "data": {
      "text/plain": [
       "97.81069386958859"
      ]
     },
     "execution_count": 28,
     "metadata": {},
     "output_type": "execute_result"
    }
   ],
   "source": [
    "lr.intercept_"
   ]
  },
  {
   "cell_type": "code",
   "execution_count": 36,
   "id": "d057337c-dee2-4ed8-8bca-53d09533e423",
   "metadata": {},
   "outputs": [
    {
     "data": {
      "text/html": [
       "<style>#sk-container-id-3 {color: black;background-color: white;}#sk-container-id-3 pre{padding: 0;}#sk-container-id-3 div.sk-toggleable {background-color: white;}#sk-container-id-3 label.sk-toggleable__label {cursor: pointer;display: block;width: 100%;margin-bottom: 0;padding: 0.3em;box-sizing: border-box;text-align: center;}#sk-container-id-3 label.sk-toggleable__label-arrow:before {content: \"▸\";float: left;margin-right: 0.25em;color: #696969;}#sk-container-id-3 label.sk-toggleable__label-arrow:hover:before {color: black;}#sk-container-id-3 div.sk-estimator:hover label.sk-toggleable__label-arrow:before {color: black;}#sk-container-id-3 div.sk-toggleable__content {max-height: 0;max-width: 0;overflow: hidden;text-align: left;background-color: #f0f8ff;}#sk-container-id-3 div.sk-toggleable__content pre {margin: 0.2em;color: black;border-radius: 0.25em;background-color: #f0f8ff;}#sk-container-id-3 input.sk-toggleable__control:checked~div.sk-toggleable__content {max-height: 200px;max-width: 100%;overflow: auto;}#sk-container-id-3 input.sk-toggleable__control:checked~label.sk-toggleable__label-arrow:before {content: \"▾\";}#sk-container-id-3 div.sk-estimator input.sk-toggleable__control:checked~label.sk-toggleable__label {background-color: #d4ebff;}#sk-container-id-3 div.sk-label input.sk-toggleable__control:checked~label.sk-toggleable__label {background-color: #d4ebff;}#sk-container-id-3 input.sk-hidden--visually {border: 0;clip: rect(1px 1px 1px 1px);clip: rect(1px, 1px, 1px, 1px);height: 1px;margin: -1px;overflow: hidden;padding: 0;position: absolute;width: 1px;}#sk-container-id-3 div.sk-estimator {font-family: monospace;background-color: #f0f8ff;border: 1px dotted black;border-radius: 0.25em;box-sizing: border-box;margin-bottom: 0.5em;}#sk-container-id-3 div.sk-estimator:hover {background-color: #d4ebff;}#sk-container-id-3 div.sk-parallel-item::after {content: \"\";width: 100%;border-bottom: 1px solid gray;flex-grow: 1;}#sk-container-id-3 div.sk-label:hover label.sk-toggleable__label {background-color: #d4ebff;}#sk-container-id-3 div.sk-serial::before {content: \"\";position: absolute;border-left: 1px solid gray;box-sizing: border-box;top: 0;bottom: 0;left: 50%;z-index: 0;}#sk-container-id-3 div.sk-serial {display: flex;flex-direction: column;align-items: center;background-color: white;padding-right: 0.2em;padding-left: 0.2em;position: relative;}#sk-container-id-3 div.sk-item {position: relative;z-index: 1;}#sk-container-id-3 div.sk-parallel {display: flex;align-items: stretch;justify-content: center;background-color: white;position: relative;}#sk-container-id-3 div.sk-item::before, #sk-container-id-3 div.sk-parallel-item::before {content: \"\";position: absolute;border-left: 1px solid gray;box-sizing: border-box;top: 0;bottom: 0;left: 50%;z-index: -1;}#sk-container-id-3 div.sk-parallel-item {display: flex;flex-direction: column;z-index: 1;position: relative;background-color: white;}#sk-container-id-3 div.sk-parallel-item:first-child::after {align-self: flex-end;width: 50%;}#sk-container-id-3 div.sk-parallel-item:last-child::after {align-self: flex-start;width: 50%;}#sk-container-id-3 div.sk-parallel-item:only-child::after {width: 0;}#sk-container-id-3 div.sk-dashed-wrapped {border: 1px dashed gray;margin: 0 0.4em 0.5em 0.4em;box-sizing: border-box;padding-bottom: 0.4em;background-color: white;}#sk-container-id-3 div.sk-label label {font-family: monospace;font-weight: bold;display: inline-block;line-height: 1.2em;}#sk-container-id-3 div.sk-label-container {text-align: center;}#sk-container-id-3 div.sk-container {/* jupyter's `normalize.less` sets `[hidden] { display: none; }` but bootstrap.min.css set `[hidden] { display: none !important; }` so we also need the `!important` here to be able to override the default hidden behavior on the sphinx rendered scikit-learn.org. See: https://github.com/scikit-learn/scikit-learn/issues/21755 */display: inline-block !important;position: relative;}#sk-container-id-3 div.sk-text-repr-fallback {display: none;}</style><div id=\"sk-container-id-3\" class=\"sk-top-container\"><div class=\"sk-text-repr-fallback\"><pre>DecisionTreeRegressor()</pre><b>In a Jupyter environment, please rerun this cell to show the HTML representation or trust the notebook. <br />On GitHub, the HTML representation is unable to render, please try loading this page with nbviewer.org.</b></div><div class=\"sk-container\" hidden><div class=\"sk-item\"><div class=\"sk-estimator sk-toggleable\"><input class=\"sk-toggleable__control sk-hidden--visually\" id=\"sk-estimator-id-3\" type=\"checkbox\" checked><label for=\"sk-estimator-id-3\" class=\"sk-toggleable__label sk-toggleable__label-arrow\">DecisionTreeRegressor</label><div class=\"sk-toggleable__content\"><pre>DecisionTreeRegressor()</pre></div></div></div></div></div>"
      ],
      "text/plain": [
       "DecisionTreeRegressor()"
      ]
     },
     "execution_count": 36,
     "metadata": {},
     "output_type": "execute_result"
    }
   ],
   "source": [
    "regressor=DecisionTreeRegressor(criterion='squared_error')\n",
    "regressor.fit(X_train,y_train)"
   ]
  },
  {
   "cell_type": "code",
   "execution_count": 37,
   "id": "f483c187-5b88-4ec1-b87f-519b0cee5bb9",
   "metadata": {},
   "outputs": [
    {
     "data": {
      "text/plain": [
       "0.9814235538182631"
      ]
     },
     "execution_count": 37,
     "metadata": {},
     "output_type": "execute_result"
    }
   ],
   "source": [
    "regressor.score(X_test,y_test)"
   ]
  },
  {
   "cell_type": "code",
   "execution_count": 40,
   "id": "cb5a12a6-cd3b-408f-8f38-4ea2c6f999ae",
   "metadata": {},
   "outputs": [
    {
     "data": {
      "text/html": [
       "<style>#sk-container-id-4 {color: black;background-color: white;}#sk-container-id-4 pre{padding: 0;}#sk-container-id-4 div.sk-toggleable {background-color: white;}#sk-container-id-4 label.sk-toggleable__label {cursor: pointer;display: block;width: 100%;margin-bottom: 0;padding: 0.3em;box-sizing: border-box;text-align: center;}#sk-container-id-4 label.sk-toggleable__label-arrow:before {content: \"▸\";float: left;margin-right: 0.25em;color: #696969;}#sk-container-id-4 label.sk-toggleable__label-arrow:hover:before {color: black;}#sk-container-id-4 div.sk-estimator:hover label.sk-toggleable__label-arrow:before {color: black;}#sk-container-id-4 div.sk-toggleable__content {max-height: 0;max-width: 0;overflow: hidden;text-align: left;background-color: #f0f8ff;}#sk-container-id-4 div.sk-toggleable__content pre {margin: 0.2em;color: black;border-radius: 0.25em;background-color: #f0f8ff;}#sk-container-id-4 input.sk-toggleable__control:checked~div.sk-toggleable__content {max-height: 200px;max-width: 100%;overflow: auto;}#sk-container-id-4 input.sk-toggleable__control:checked~label.sk-toggleable__label-arrow:before {content: \"▾\";}#sk-container-id-4 div.sk-estimator input.sk-toggleable__control:checked~label.sk-toggleable__label {background-color: #d4ebff;}#sk-container-id-4 div.sk-label input.sk-toggleable__control:checked~label.sk-toggleable__label {background-color: #d4ebff;}#sk-container-id-4 input.sk-hidden--visually {border: 0;clip: rect(1px 1px 1px 1px);clip: rect(1px, 1px, 1px, 1px);height: 1px;margin: -1px;overflow: hidden;padding: 0;position: absolute;width: 1px;}#sk-container-id-4 div.sk-estimator {font-family: monospace;background-color: #f0f8ff;border: 1px dotted black;border-radius: 0.25em;box-sizing: border-box;margin-bottom: 0.5em;}#sk-container-id-4 div.sk-estimator:hover {background-color: #d4ebff;}#sk-container-id-4 div.sk-parallel-item::after {content: \"\";width: 100%;border-bottom: 1px solid gray;flex-grow: 1;}#sk-container-id-4 div.sk-label:hover label.sk-toggleable__label {background-color: #d4ebff;}#sk-container-id-4 div.sk-serial::before {content: \"\";position: absolute;border-left: 1px solid gray;box-sizing: border-box;top: 0;bottom: 0;left: 50%;z-index: 0;}#sk-container-id-4 div.sk-serial {display: flex;flex-direction: column;align-items: center;background-color: white;padding-right: 0.2em;padding-left: 0.2em;position: relative;}#sk-container-id-4 div.sk-item {position: relative;z-index: 1;}#sk-container-id-4 div.sk-parallel {display: flex;align-items: stretch;justify-content: center;background-color: white;position: relative;}#sk-container-id-4 div.sk-item::before, #sk-container-id-4 div.sk-parallel-item::before {content: \"\";position: absolute;border-left: 1px solid gray;box-sizing: border-box;top: 0;bottom: 0;left: 50%;z-index: -1;}#sk-container-id-4 div.sk-parallel-item {display: flex;flex-direction: column;z-index: 1;position: relative;background-color: white;}#sk-container-id-4 div.sk-parallel-item:first-child::after {align-self: flex-end;width: 50%;}#sk-container-id-4 div.sk-parallel-item:last-child::after {align-self: flex-start;width: 50%;}#sk-container-id-4 div.sk-parallel-item:only-child::after {width: 0;}#sk-container-id-4 div.sk-dashed-wrapped {border: 1px dashed gray;margin: 0 0.4em 0.5em 0.4em;box-sizing: border-box;padding-bottom: 0.4em;background-color: white;}#sk-container-id-4 div.sk-label label {font-family: monospace;font-weight: bold;display: inline-block;line-height: 1.2em;}#sk-container-id-4 div.sk-label-container {text-align: center;}#sk-container-id-4 div.sk-container {/* jupyter's `normalize.less` sets `[hidden] { display: none; }` but bootstrap.min.css set `[hidden] { display: none !important; }` so we also need the `!important` here to be able to override the default hidden behavior on the sphinx rendered scikit-learn.org. See: https://github.com/scikit-learn/scikit-learn/issues/21755 */display: inline-block !important;position: relative;}#sk-container-id-4 div.sk-text-repr-fallback {display: none;}</style><div id=\"sk-container-id-4\" class=\"sk-top-container\"><div class=\"sk-text-repr-fallback\"><pre>RandomForestRegressor()</pre><b>In a Jupyter environment, please rerun this cell to show the HTML representation or trust the notebook. <br />On GitHub, the HTML representation is unable to render, please try loading this page with nbviewer.org.</b></div><div class=\"sk-container\" hidden><div class=\"sk-item\"><div class=\"sk-estimator sk-toggleable\"><input class=\"sk-toggleable__control sk-hidden--visually\" id=\"sk-estimator-id-4\" type=\"checkbox\" checked><label for=\"sk-estimator-id-4\" class=\"sk-toggleable__label sk-toggleable__label-arrow\">RandomForestRegressor</label><div class=\"sk-toggleable__content\"><pre>RandomForestRegressor()</pre></div></div></div></div></div>"
      ],
      "text/plain": [
       "RandomForestRegressor()"
      ]
     },
     "execution_count": 40,
     "metadata": {},
     "output_type": "execute_result"
    }
   ],
   "source": [
    "Regressor=RandomForestRegressor(n_estimators=100,criterion='squared_error')\n",
    "Regressor.fit(X_train,y_train)\n"
   ]
  },
  {
   "cell_type": "code",
   "execution_count": 41,
   "id": "39a75708-f84e-46ff-b6d8-108954052752",
   "metadata": {},
   "outputs": [
    {
     "data": {
      "text/plain": [
       "0.9900239179122321"
      ]
     },
     "execution_count": 41,
     "metadata": {},
     "output_type": "execute_result"
    }
   ],
   "source": [
    "Regressor.score(X_test,y_test)"
   ]
  },
  {
   "cell_type": "code",
   "execution_count": 42,
   "id": "1c64caa1-66d2-4bdc-8a7e-334cae4d294f",
   "metadata": {},
   "outputs": [
    {
     "data": {
      "text/plain": [
       "array([ 96.60614277, 117.50672308, 120.28404183, 121.92419575,\n",
       "       165.95827041, 113.7022977 , 112.23441838, 119.87749829,\n",
       "       132.53693995, 101.86373907, 102.43403995, 156.63797593,\n",
       "       119.13276757, 109.57594583, 139.23595182, 117.10086488,\n",
       "       119.82335175, 114.652319  , 150.24067652, 117.71559253,\n",
       "       121.84188   , 114.76444294,  92.5045015 , 115.35748518,\n",
       "       101.14816679, 100.97568756, 117.70961245, 153.54370758,\n",
       "       100.69115825,  97.81646982, 109.76534683,  99.69208027,\n",
       "       123.05907042, 123.1458489 , 120.84031055, 141.40308368,\n",
       "       117.28829987, 101.80779899, 120.1148586 , 118.84548127,\n",
       "       149.29660378, 117.55663211, 120.86397698, 159.5864749 ,\n",
       "       117.58252411, 158.94950588, 115.19364171, 104.95206653,\n",
       "       115.69934259,  86.2829705 , 114.02740989, 123.34987825,\n",
       "       116.00730444, 143.45537335, 162.52125471, 113.99040884,\n",
       "       100.44150693, 120.62052241, 103.91635081, 101.82087509,\n",
       "       119.50587681, 150.69311037, 109.53708407, 113.40110872,\n",
       "       171.33997095, 127.19706425, 152.5075351 , 156.25912649,\n",
       "       112.58309937, 121.11896168, 129.74942338, 112.6960779 ,\n",
       "       118.56580913, 118.52888501, 112.41599088, 117.95620432,\n",
       "       110.49796051, 153.63340507, 128.25266507, 145.35841754,\n",
       "        87.38416852, 118.76978433, 106.01648904, 118.54861049,\n",
       "       152.31489733, 110.38805867, 164.33769349, 128.99453246,\n",
       "       131.82903833,  89.82901605, 110.90797991, 117.15275593,\n",
       "       114.38488119, 158.97423867, 178.87983501, 146.34765822,\n",
       "        91.89090614,  91.75808105, 119.44752261, 119.77984341,\n",
       "       128.58066408, 120.20647695, 108.57976338, 127.62930109,\n",
       "       101.11938556, 158.20617589, 115.01219104,  93.12914875,\n",
       "       113.39044171,  82.05624093, 122.57982909, 145.34253242,\n",
       "       123.13456885, 173.01687209, 117.25080829, 121.19793676,\n",
       "       120.43012621, 160.62740362, 127.3231086 , 142.7324418 ,\n",
       "       145.61452087,  81.54885077, 146.76821267, 121.46242158,\n",
       "       158.07542884, 117.16385975, 114.35890169, 118.48654734,\n",
       "       118.24455772, 146.62621047, 119.52678346, 121.10380701,\n",
       "       121.03127761, 160.20801572, 118.77324887,  97.4184673 ,\n",
       "       151.2328169 , 111.02085943, 153.42950914, 103.13661365,\n",
       "       106.39050946, 162.01581559, 116.69887916,  88.46552947,\n",
       "       114.04081017, 117.31801629, 123.55892164, 112.06566536,\n",
       "       157.74302737, 121.07677142, 171.47037747, 123.4842864 ,\n",
       "       103.08044544, 146.6636773 , 145.4180072 , 120.31599757,\n",
       "       159.90670727, 124.35695182, 138.63278421, 101.51583186,\n",
       "       143.50708989, 176.7204829 , 119.55039953, 155.40202238,\n",
       "       138.04420577, 122.06247302, 127.35627435, 122.48483118,\n",
       "       102.21815055, 175.92198489, 162.83873848,  89.8067589 ,\n",
       "        92.56123962, 159.53286687, 110.89413831, 167.8094114 ,\n",
       "       119.12705091, 146.89194702, 121.41386982, 118.71090521,\n",
       "       118.59376211, 145.19362053, 146.95631157, 145.13214789,\n",
       "       157.25039813, 152.39916185, 121.58086896, 114.08077848,\n",
       "       173.57824462, 183.50579597, 150.85407412,  83.71080251,\n",
       "       155.79668123, 125.60845679, 111.53250337, 103.12957203,\n",
       "        97.85393898, 120.94233762, 120.97738872, 142.09070723,\n",
       "        96.45067708, 117.93816359, 100.2673101 , 188.45930056,\n",
       "       196.01170731, 158.5426803 , 109.77706986, 111.97241368,\n",
       "       133.62588229, 113.22592283, 111.4246356 , 121.29215879,\n",
       "       123.67174042, 114.09534267, 103.27992988, 123.76308676,\n",
       "       127.44942295, 121.28748005, 122.53112407,  88.21059889,\n",
       "       114.10279923, 153.39590453, 105.20969864, 176.22021966,\n",
       "       113.95005577, 162.02431614, 152.28887016, 122.20688705,\n",
       "       122.08004943, 119.20215857, 111.02316599, 116.66465459,\n",
       "       116.07359621, 145.96036174, 177.85629369, 110.09057888,\n",
       "       200.58823261,  99.04207851, 144.03447549, 111.18862082,\n",
       "       121.9392247 , 117.95803271, 116.72552951, 119.94525056,\n",
       "       130.83478719, 122.55494797, 115.17070909,  98.95195659,\n",
       "        91.86326634, 149.609472  , 120.63002379, 155.93063803,\n",
       "       108.57871143, 126.79991146, 149.30130337,  99.88296588,\n",
       "       145.46139962,  82.62858391, 119.14158051, 120.64458654,\n",
       "       143.59781162, 120.6571009 , 116.8526892 , 102.33795047,\n",
       "       122.22008799, 113.39460362, 128.13020536, 112.20738583,\n",
       "       118.60975043, 156.10392365, 116.27766565,  83.7025112 ,\n",
       "       153.54782899, 111.64656026, 155.47062447,  82.69104836,\n",
       "       118.77921406, 143.31248727,  82.94266246, 124.57992762,\n",
       "       120.65900252, 102.9505839 , 123.27695474, 114.86235834,\n",
       "       144.41955556, 117.82765532, 119.01859579, 116.0705288 ,\n",
       "       112.11443668,  91.92223793, 146.99969836, 162.30036744,\n",
       "       144.45264329, 154.76681024, 117.93412327, 117.74747568,\n",
       "       134.94311818, 160.83515897, 123.09946831, 118.45914842,\n",
       "       105.36312355,  99.70544959, 113.54819822, 122.97357794,\n",
       "       159.98080113, 116.25550664, 116.92213994, 112.51759818,\n",
       "       171.31221491,  90.47259714, 159.21994726, 156.25307403,\n",
       "        88.25993493, 117.41574592, 121.1033171 , 124.69626292,\n",
       "       117.10848133, 146.29057674, 103.84618369, 100.13778054,\n",
       "       117.68269195, 118.0850283 , 143.90370149, 116.03459504,\n",
       "        97.93821354, 108.74648822,  94.34516791, 121.80961902,\n",
       "       121.48111389, 154.84374657, 175.18514283, 131.28771414,\n",
       "       120.77070792, 145.61676555, 114.104584  , 120.08972492,\n",
       "       131.05596413, 123.48156777, 116.26041029,  93.11709222,\n",
       "        87.90452449, 116.23044525, 127.90432264, 118.51931036,\n",
       "       130.04020336, 127.8500873 , 117.86266434, 117.38121511,\n",
       "       121.56682122, 121.08535759, 112.61536738, 154.90865368,\n",
       "       118.7543415 , 117.82538297, 121.59648729, 120.36301164,\n",
       "       158.13648104, 115.0262831 , 143.72073499, 117.14788276,\n",
       "        86.16122742, 120.91424939, 160.99523323, 116.98552215,\n",
       "       111.81172371, 116.24952506, 116.04251908, 143.90001473,\n",
       "       123.31372176, 118.69559591, 111.69056079,  83.93063123,\n",
       "       142.81302534, 119.99169319, 101.36166561,  91.75911283,\n",
       "       142.70471319, 115.73662792, 124.26218092,  91.963462  ,\n",
       "       144.55860872, 119.56150365, 119.42639934, 121.55810826,\n",
       "       115.68856304, 126.65499939, 121.74704342, 120.03595488,\n",
       "       173.10312011, 115.86298432, 111.48331126, 160.21479091,\n",
       "       158.07572033, 116.95261659, 161.19712436, 119.62704033,\n",
       "       119.97148446,  92.16184977, 174.40142328,  88.615855  ,\n",
       "       124.97379152, 147.13091152, 119.77737268, 146.6635123 ,\n",
       "       102.64583004, 119.95532531,  92.3412012 , 148.17336297,\n",
       "       150.07288124,  94.52216957, 178.86348859, 101.38547117,\n",
       "       152.14719417, 117.93019636, 142.15759789,  96.17795642,\n",
       "       102.92793023, 148.40860924, 116.36259625, 123.28667251,\n",
       "       179.91569356,  98.26312329, 117.18665358, 111.59393781,\n",
       "        92.70193369, 161.07399962, 113.80227933, 122.42730242,\n",
       "       122.42681158, 120.96730914, 144.13714557, 127.52226372,\n",
       "       113.35300569,  93.05137032,  90.19867338,  90.94258128,\n",
       "       150.28449712, 120.76766709,  98.47383681, 118.98461821,\n",
       "       117.88991135, 100.49452153, 111.25784669, 177.40765425,\n",
       "       113.5097573 , 109.72364101, 114.46767326,  86.92099839,\n",
       "       101.83910702, 115.59420071, 117.59206437, 101.85351761,\n",
       "       113.60466859, 124.49986619, 120.26915876, 120.70513072,\n",
       "       130.49089811, 122.58172284])"
      ]
     },
     "execution_count": 42,
     "metadata": {},
     "output_type": "execute_result"
    }
   ],
   "source": [
    "y_pred = lr.predict(X_test)\n",
    "y_pred"
   ]
  },
  {
   "cell_type": "code",
   "execution_count": 43,
   "id": "81717b08-166e-49c0-b425-3fafa7bbac4e",
   "metadata": {},
   "outputs": [
    {
     "data": {
      "text/plain": [
       "388     100.730003\n",
       "2271    126.620003\n",
       "2119    121.919998\n",
       "1436    125.720001\n",
       "746     148.589996\n",
       "           ...    \n",
       "1195    133.940002\n",
       "2138    124.360001\n",
       "2202    123.650002\n",
       "1880    127.150002\n",
       "1930    120.160004\n",
       "Name: GLD, Length: 458, dtype: float64"
      ]
     },
     "execution_count": 43,
     "metadata": {},
     "output_type": "execute_result"
    }
   ],
   "source": [
    "y_test"
   ]
  },
  {
   "cell_type": "code",
   "execution_count": 44,
   "id": "4d506c9c-e146-4e2a-b840-eb476e3e54eb",
   "metadata": {},
   "outputs": [],
   "source": [
    "cv = KFold(n_splits=5 , random_state=100 , shuffle=True)"
   ]
  },
  {
   "cell_type": "code",
   "execution_count": 45,
   "id": "11186430-036b-4e33-a220-8e8a4a2f304b",
   "metadata": {},
   "outputs": [
    {
     "data": {
      "text/plain": [
       "array([0.98821782, 0.98747936, 0.98992745, 0.98847024, 0.97805597])"
      ]
     },
     "execution_count": 45,
     "metadata": {},
     "output_type": "execute_result"
    }
   ],
   "source": [
    "#for RandomForestRegressor\n",
    "\n",
    "cross_val_score(estimator=Regressor ,X=X , y = y ,cv = cv)"
   ]
  },
  {
   "cell_type": "code",
   "execution_count": 46,
   "id": "68059158-8a7a-44e7-962d-2af0551ea796",
   "metadata": {},
   "outputs": [
    {
     "data": {
      "text/plain": [
       "array([ 96.60614277, 117.50672308, 120.28404183, 121.92419575,\n",
       "       165.95827041, 113.7022977 , 112.23441838, 119.87749829,\n",
       "       132.53693995, 101.86373907, 102.43403995, 156.63797593,\n",
       "       119.13276757, 109.57594583, 139.23595182, 117.10086488,\n",
       "       119.82335175, 114.652319  , 150.24067652, 117.71559253,\n",
       "       121.84188   , 114.76444294,  92.5045015 , 115.35748518,\n",
       "       101.14816679, 100.97568756, 117.70961245, 153.54370758,\n",
       "       100.69115825,  97.81646982, 109.76534683,  99.69208027,\n",
       "       123.05907042, 123.1458489 , 120.84031055, 141.40308368,\n",
       "       117.28829987, 101.80779899, 120.1148586 , 118.84548127,\n",
       "       149.29660378, 117.55663211, 120.86397698, 159.5864749 ,\n",
       "       117.58252411, 158.94950588, 115.19364171, 104.95206653,\n",
       "       115.69934259,  86.2829705 , 114.02740989, 123.34987825,\n",
       "       116.00730444, 143.45537335, 162.52125471, 113.99040884,\n",
       "       100.44150693, 120.62052241, 103.91635081, 101.82087509,\n",
       "       119.50587681, 150.69311037, 109.53708407, 113.40110872,\n",
       "       171.33997095, 127.19706425, 152.5075351 , 156.25912649,\n",
       "       112.58309937, 121.11896168, 129.74942338, 112.6960779 ,\n",
       "       118.56580913, 118.52888501, 112.41599088, 117.95620432,\n",
       "       110.49796051, 153.63340507, 128.25266507, 145.35841754,\n",
       "        87.38416852, 118.76978433, 106.01648904, 118.54861049,\n",
       "       152.31489733, 110.38805867, 164.33769349, 128.99453246,\n",
       "       131.82903833,  89.82901605, 110.90797991, 117.15275593,\n",
       "       114.38488119, 158.97423867, 178.87983501, 146.34765822,\n",
       "        91.89090614,  91.75808105, 119.44752261, 119.77984341,\n",
       "       128.58066408, 120.20647695, 108.57976338, 127.62930109,\n",
       "       101.11938556, 158.20617589, 115.01219104,  93.12914875,\n",
       "       113.39044171,  82.05624093, 122.57982909, 145.34253242,\n",
       "       123.13456885, 173.01687209, 117.25080829, 121.19793676,\n",
       "       120.43012621, 160.62740362, 127.3231086 , 142.7324418 ,\n",
       "       145.61452087,  81.54885077, 146.76821267, 121.46242158,\n",
       "       158.07542884, 117.16385975, 114.35890169, 118.48654734,\n",
       "       118.24455772, 146.62621047, 119.52678346, 121.10380701,\n",
       "       121.03127761, 160.20801572, 118.77324887,  97.4184673 ,\n",
       "       151.2328169 , 111.02085943, 153.42950914, 103.13661365,\n",
       "       106.39050946, 162.01581559, 116.69887916,  88.46552947,\n",
       "       114.04081017, 117.31801629, 123.55892164, 112.06566536,\n",
       "       157.74302737, 121.07677142, 171.47037747, 123.4842864 ,\n",
       "       103.08044544, 146.6636773 , 145.4180072 , 120.31599757,\n",
       "       159.90670727, 124.35695182, 138.63278421, 101.51583186,\n",
       "       143.50708989, 176.7204829 , 119.55039953, 155.40202238,\n",
       "       138.04420577, 122.06247302, 127.35627435, 122.48483118,\n",
       "       102.21815055, 175.92198489, 162.83873848,  89.8067589 ,\n",
       "        92.56123962, 159.53286687, 110.89413831, 167.8094114 ,\n",
       "       119.12705091, 146.89194702, 121.41386982, 118.71090521,\n",
       "       118.59376211, 145.19362053, 146.95631157, 145.13214789,\n",
       "       157.25039813, 152.39916185, 121.58086896, 114.08077848,\n",
       "       173.57824462, 183.50579597, 150.85407412,  83.71080251,\n",
       "       155.79668123, 125.60845679, 111.53250337, 103.12957203,\n",
       "        97.85393898, 120.94233762, 120.97738872, 142.09070723,\n",
       "        96.45067708, 117.93816359, 100.2673101 , 188.45930056,\n",
       "       196.01170731, 158.5426803 , 109.77706986, 111.97241368,\n",
       "       133.62588229, 113.22592283, 111.4246356 , 121.29215879,\n",
       "       123.67174042, 114.09534267, 103.27992988, 123.76308676,\n",
       "       127.44942295, 121.28748005, 122.53112407,  88.21059889,\n",
       "       114.10279923, 153.39590453, 105.20969864, 176.22021966,\n",
       "       113.95005577, 162.02431614, 152.28887016, 122.20688705,\n",
       "       122.08004943, 119.20215857, 111.02316599, 116.66465459,\n",
       "       116.07359621, 145.96036174, 177.85629369, 110.09057888,\n",
       "       200.58823261,  99.04207851, 144.03447549, 111.18862082,\n",
       "       121.9392247 , 117.95803271, 116.72552951, 119.94525056,\n",
       "       130.83478719, 122.55494797, 115.17070909,  98.95195659,\n",
       "        91.86326634, 149.609472  , 120.63002379, 155.93063803,\n",
       "       108.57871143, 126.79991146, 149.30130337,  99.88296588,\n",
       "       145.46139962,  82.62858391, 119.14158051, 120.64458654,\n",
       "       143.59781162, 120.6571009 , 116.8526892 , 102.33795047,\n",
       "       122.22008799, 113.39460362, 128.13020536, 112.20738583,\n",
       "       118.60975043, 156.10392365, 116.27766565,  83.7025112 ,\n",
       "       153.54782899, 111.64656026, 155.47062447,  82.69104836,\n",
       "       118.77921406, 143.31248727,  82.94266246, 124.57992762,\n",
       "       120.65900252, 102.9505839 , 123.27695474, 114.86235834,\n",
       "       144.41955556, 117.82765532, 119.01859579, 116.0705288 ,\n",
       "       112.11443668,  91.92223793, 146.99969836, 162.30036744,\n",
       "       144.45264329, 154.76681024, 117.93412327, 117.74747568,\n",
       "       134.94311818, 160.83515897, 123.09946831, 118.45914842,\n",
       "       105.36312355,  99.70544959, 113.54819822, 122.97357794,\n",
       "       159.98080113, 116.25550664, 116.92213994, 112.51759818,\n",
       "       171.31221491,  90.47259714, 159.21994726, 156.25307403,\n",
       "        88.25993493, 117.41574592, 121.1033171 , 124.69626292,\n",
       "       117.10848133, 146.29057674, 103.84618369, 100.13778054,\n",
       "       117.68269195, 118.0850283 , 143.90370149, 116.03459504,\n",
       "        97.93821354, 108.74648822,  94.34516791, 121.80961902,\n",
       "       121.48111389, 154.84374657, 175.18514283, 131.28771414,\n",
       "       120.77070792, 145.61676555, 114.104584  , 120.08972492,\n",
       "       131.05596413, 123.48156777, 116.26041029,  93.11709222,\n",
       "        87.90452449, 116.23044525, 127.90432264, 118.51931036,\n",
       "       130.04020336, 127.8500873 , 117.86266434, 117.38121511,\n",
       "       121.56682122, 121.08535759, 112.61536738, 154.90865368,\n",
       "       118.7543415 , 117.82538297, 121.59648729, 120.36301164,\n",
       "       158.13648104, 115.0262831 , 143.72073499, 117.14788276,\n",
       "        86.16122742, 120.91424939, 160.99523323, 116.98552215,\n",
       "       111.81172371, 116.24952506, 116.04251908, 143.90001473,\n",
       "       123.31372176, 118.69559591, 111.69056079,  83.93063123,\n",
       "       142.81302534, 119.99169319, 101.36166561,  91.75911283,\n",
       "       142.70471319, 115.73662792, 124.26218092,  91.963462  ,\n",
       "       144.55860872, 119.56150365, 119.42639934, 121.55810826,\n",
       "       115.68856304, 126.65499939, 121.74704342, 120.03595488,\n",
       "       173.10312011, 115.86298432, 111.48331126, 160.21479091,\n",
       "       158.07572033, 116.95261659, 161.19712436, 119.62704033,\n",
       "       119.97148446,  92.16184977, 174.40142328,  88.615855  ,\n",
       "       124.97379152, 147.13091152, 119.77737268, 146.6635123 ,\n",
       "       102.64583004, 119.95532531,  92.3412012 , 148.17336297,\n",
       "       150.07288124,  94.52216957, 178.86348859, 101.38547117,\n",
       "       152.14719417, 117.93019636, 142.15759789,  96.17795642,\n",
       "       102.92793023, 148.40860924, 116.36259625, 123.28667251,\n",
       "       179.91569356,  98.26312329, 117.18665358, 111.59393781,\n",
       "        92.70193369, 161.07399962, 113.80227933, 122.42730242,\n",
       "       122.42681158, 120.96730914, 144.13714557, 127.52226372,\n",
       "       113.35300569,  93.05137032,  90.19867338,  90.94258128,\n",
       "       150.28449712, 120.76766709,  98.47383681, 118.98461821,\n",
       "       117.88991135, 100.49452153, 111.25784669, 177.40765425,\n",
       "       113.5097573 , 109.72364101, 114.46767326,  86.92099839,\n",
       "       101.83910702, 115.59420071, 117.59206437, 101.85351761,\n",
       "       113.60466859, 124.49986619, 120.26915876, 120.70513072,\n",
       "       130.49089811, 122.58172284])"
      ]
     },
     "execution_count": 46,
     "metadata": {},
     "output_type": "execute_result"
    }
   ],
   "source": [
    "y_predict = lr.predict(X_test)\n",
    "y_predict"
   ]
  },
  {
   "cell_type": "code",
   "execution_count": 47,
   "id": "124ffc69-9096-4743-b362-8935f0d9d64a",
   "metadata": {},
   "outputs": [
    {
     "name": "stdout",
     "output_type": "stream",
     "text": [
      "MSE =  80.5431097550067\n",
      "RMSE = 8.97458131363278\n"
     ]
    }
   ],
   "source": [
    "mse = mean_squared_error(y_test, y_pred)\n",
    "rmse = np.sqrt(mse)\n",
    "print('MSE = ', mse)\n",
    "print('RMSE =', rmse)"
   ]
  },
  {
   "cell_type": "code",
   "execution_count": 48,
   "id": "f8ca4196-4341-4692-93fd-43bd0e0b3919",
   "metadata": {},
   "outputs": [],
   "source": [
    "from sklearn.neighbors import KNeighborsRegressor\n",
    "knn = KNeighborsRegressor(n_neighbors=5)\n"
   ]
  },
  {
   "cell_type": "code",
   "execution_count": 49,
   "id": "b4df3f74-d986-4a41-bed6-808e42b9251b",
   "metadata": {},
   "outputs": [
    {
     "data": {
      "text/plain": [
       "1832"
      ]
     },
     "execution_count": 49,
     "metadata": {},
     "output_type": "execute_result"
    }
   ],
   "source": [
    "len(X_train)"
   ]
  },
  {
   "cell_type": "code",
   "execution_count": 50,
   "id": "dea854eb-a4dc-4536-951a-450015b6879c",
   "metadata": {},
   "outputs": [
    {
     "data": {
      "text/plain": [
       "458"
      ]
     },
     "execution_count": 50,
     "metadata": {},
     "output_type": "execute_result"
    }
   ],
   "source": [
    "len(X_test)"
   ]
  },
  {
   "cell_type": "code",
   "execution_count": 51,
   "id": "15313d2e-29fd-4f0e-89eb-26e2bf43821e",
   "metadata": {},
   "outputs": [
    {
     "data": {
      "text/html": [
       "<style>#sk-container-id-5 {color: black;background-color: white;}#sk-container-id-5 pre{padding: 0;}#sk-container-id-5 div.sk-toggleable {background-color: white;}#sk-container-id-5 label.sk-toggleable__label {cursor: pointer;display: block;width: 100%;margin-bottom: 0;padding: 0.3em;box-sizing: border-box;text-align: center;}#sk-container-id-5 label.sk-toggleable__label-arrow:before {content: \"▸\";float: left;margin-right: 0.25em;color: #696969;}#sk-container-id-5 label.sk-toggleable__label-arrow:hover:before {color: black;}#sk-container-id-5 div.sk-estimator:hover label.sk-toggleable__label-arrow:before {color: black;}#sk-container-id-5 div.sk-toggleable__content {max-height: 0;max-width: 0;overflow: hidden;text-align: left;background-color: #f0f8ff;}#sk-container-id-5 div.sk-toggleable__content pre {margin: 0.2em;color: black;border-radius: 0.25em;background-color: #f0f8ff;}#sk-container-id-5 input.sk-toggleable__control:checked~div.sk-toggleable__content {max-height: 200px;max-width: 100%;overflow: auto;}#sk-container-id-5 input.sk-toggleable__control:checked~label.sk-toggleable__label-arrow:before {content: \"▾\";}#sk-container-id-5 div.sk-estimator input.sk-toggleable__control:checked~label.sk-toggleable__label {background-color: #d4ebff;}#sk-container-id-5 div.sk-label input.sk-toggleable__control:checked~label.sk-toggleable__label {background-color: #d4ebff;}#sk-container-id-5 input.sk-hidden--visually {border: 0;clip: rect(1px 1px 1px 1px);clip: rect(1px, 1px, 1px, 1px);height: 1px;margin: -1px;overflow: hidden;padding: 0;position: absolute;width: 1px;}#sk-container-id-5 div.sk-estimator {font-family: monospace;background-color: #f0f8ff;border: 1px dotted black;border-radius: 0.25em;box-sizing: border-box;margin-bottom: 0.5em;}#sk-container-id-5 div.sk-estimator:hover {background-color: #d4ebff;}#sk-container-id-5 div.sk-parallel-item::after {content: \"\";width: 100%;border-bottom: 1px solid gray;flex-grow: 1;}#sk-container-id-5 div.sk-label:hover label.sk-toggleable__label {background-color: #d4ebff;}#sk-container-id-5 div.sk-serial::before {content: \"\";position: absolute;border-left: 1px solid gray;box-sizing: border-box;top: 0;bottom: 0;left: 50%;z-index: 0;}#sk-container-id-5 div.sk-serial {display: flex;flex-direction: column;align-items: center;background-color: white;padding-right: 0.2em;padding-left: 0.2em;position: relative;}#sk-container-id-5 div.sk-item {position: relative;z-index: 1;}#sk-container-id-5 div.sk-parallel {display: flex;align-items: stretch;justify-content: center;background-color: white;position: relative;}#sk-container-id-5 div.sk-item::before, #sk-container-id-5 div.sk-parallel-item::before {content: \"\";position: absolute;border-left: 1px solid gray;box-sizing: border-box;top: 0;bottom: 0;left: 50%;z-index: -1;}#sk-container-id-5 div.sk-parallel-item {display: flex;flex-direction: column;z-index: 1;position: relative;background-color: white;}#sk-container-id-5 div.sk-parallel-item:first-child::after {align-self: flex-end;width: 50%;}#sk-container-id-5 div.sk-parallel-item:last-child::after {align-self: flex-start;width: 50%;}#sk-container-id-5 div.sk-parallel-item:only-child::after {width: 0;}#sk-container-id-5 div.sk-dashed-wrapped {border: 1px dashed gray;margin: 0 0.4em 0.5em 0.4em;box-sizing: border-box;padding-bottom: 0.4em;background-color: white;}#sk-container-id-5 div.sk-label label {font-family: monospace;font-weight: bold;display: inline-block;line-height: 1.2em;}#sk-container-id-5 div.sk-label-container {text-align: center;}#sk-container-id-5 div.sk-container {/* jupyter's `normalize.less` sets `[hidden] { display: none; }` but bootstrap.min.css set `[hidden] { display: none !important; }` so we also need the `!important` here to be able to override the default hidden behavior on the sphinx rendered scikit-learn.org. See: https://github.com/scikit-learn/scikit-learn/issues/21755 */display: inline-block !important;position: relative;}#sk-container-id-5 div.sk-text-repr-fallback {display: none;}</style><div id=\"sk-container-id-5\" class=\"sk-top-container\"><div class=\"sk-text-repr-fallback\"><pre>KNeighborsRegressor()</pre><b>In a Jupyter environment, please rerun this cell to show the HTML representation or trust the notebook. <br />On GitHub, the HTML representation is unable to render, please try loading this page with nbviewer.org.</b></div><div class=\"sk-container\" hidden><div class=\"sk-item\"><div class=\"sk-estimator sk-toggleable\"><input class=\"sk-toggleable__control sk-hidden--visually\" id=\"sk-estimator-id-5\" type=\"checkbox\" checked><label for=\"sk-estimator-id-5\" class=\"sk-toggleable__label sk-toggleable__label-arrow\">KNeighborsRegressor</label><div class=\"sk-toggleable__content\"><pre>KNeighborsRegressor()</pre></div></div></div></div></div>"
      ],
      "text/plain": [
       "KNeighborsRegressor()"
      ]
     },
     "execution_count": 51,
     "metadata": {},
     "output_type": "execute_result"
    }
   ],
   "source": [
    "knn.fit(X_train, y_train)"
   ]
  },
  {
   "cell_type": "code",
   "execution_count": 52,
   "id": "c6fec782-d1e6-4dec-8ee7-f2a14f56495b",
   "metadata": {},
   "outputs": [
    {
     "data": {
      "text/plain": [
       "0.9273470854177109"
      ]
     },
     "execution_count": 52,
     "metadata": {},
     "output_type": "execute_result"
    }
   ],
   "source": [
    "knn.score(X_test,y_test)"
   ]
  },
  {
   "cell_type": "code",
   "execution_count": 56,
   "id": "18d1ccdb-9eaa-477d-9573-b8099fccb6c4",
   "metadata": {},
   "outputs": [],
   "source": [
    "models = [LinearRegression, SVR, DecisionTreeRegressor, KNeighborsRegressor, RandomForestRegressor]\n",
    "mse_scores = []\n",
    "rmse_scores = []\n",
    "\n",
    "for model in models:\n",
    "    regressor = model().fit(X_train, y_train)\n",
    "    y_pred = regressor.predict(X_test)\n",
    "    \n",
    "    mse_scores.append(mean_squared_error(y_test, y_pred))\n",
    "    rmse_scores.append(mean_squared_error( y_test, y_pred, squared=False))"
   ]
  },
  {
   "cell_type": "code",
   "execution_count": 57,
   "id": "25d0f283-338a-41d2-93ce-ef611208b87f",
   "metadata": {},
   "outputs": [
    {
     "data": {
      "text/html": [
       "<div>\n",
       "<style scoped>\n",
       "    .dataframe tbody tr th:only-of-type {\n",
       "        vertical-align: middle;\n",
       "    }\n",
       "\n",
       "    .dataframe tbody tr th {\n",
       "        vertical-align: top;\n",
       "    }\n",
       "\n",
       "    .dataframe thead th {\n",
       "        text-align: right;\n",
       "    }\n",
       "</style>\n",
       "<table border=\"1\" class=\"dataframe\">\n",
       "  <thead>\n",
       "    <tr style=\"text-align: right;\">\n",
       "      <th></th>\n",
       "      <th>Mean Squared Error</th>\n",
       "      <th>Root Mean Squared Error</th>\n",
       "    </tr>\n",
       "    <tr>\n",
       "      <th>Model</th>\n",
       "      <th></th>\n",
       "      <th></th>\n",
       "    </tr>\n",
       "  </thead>\n",
       "  <tbody>\n",
       "    <tr>\n",
       "      <th>Linear Regression</th>\n",
       "      <td>80.543110</td>\n",
       "      <td>8.974581</td>\n",
       "    </tr>\n",
       "    <tr>\n",
       "      <th>SVR</th>\n",
       "      <td>507.520216</td>\n",
       "      <td>22.528209</td>\n",
       "    </tr>\n",
       "    <tr>\n",
       "      <th>Decision Tree Regressor</th>\n",
       "      <td>10.871481</td>\n",
       "      <td>3.297193</td>\n",
       "    </tr>\n",
       "    <tr>\n",
       "      <th>KNeighborsRegressor</th>\n",
       "      <td>40.332335</td>\n",
       "      <td>6.350774</td>\n",
       "    </tr>\n",
       "    <tr>\n",
       "      <th>Random Forest Regressor</th>\n",
       "      <td>5.425910</td>\n",
       "      <td>2.329358</td>\n",
       "    </tr>\n",
       "  </tbody>\n",
       "</table>\n",
       "</div>"
      ],
      "text/plain": [
       "                         Mean Squared Error  Root Mean Squared Error\n",
       "Model                                                               \n",
       "Linear Regression                 80.543110                 8.974581\n",
       "SVR                              507.520216                22.528209\n",
       "Decision Tree Regressor           10.871481                 3.297193\n",
       "KNeighborsRegressor               40.332335                 6.350774\n",
       "Random Forest Regressor            5.425910                 2.329358"
      ]
     },
     "execution_count": 57,
     "metadata": {},
     "output_type": "execute_result"
    }
   ],
   "source": [
    "regression_metrics_df = pd.DataFrame({\n",
    "    \"Model\": [\"Linear Regression\", \"SVR\", \"Decision Tree Regressor\", \"KNeighborsRegressor\", \"Random Forest Regressor\"],\n",
    "    \"Mean Squared Error\": mse_scores,\n",
    "    \"Root Mean Squared Error\": rmse_scores,\n",
    "})\n",
    "\n",
    "regression_metrics_df.set_index('Model', inplace=True)\n",
    "regression_metrics_df"
   ]
  },
  {
   "cell_type": "raw",
   "id": "6dc7e9bf-791b-43e4-8510-8d969d203b02",
   "metadata": {},
   "source": [
    "Conclusion : In our project the best accuracy of the model is random forest accuracy is 0.99% "
   ]
  }
 ],
 "metadata": {
  "kernelspec": {
   "display_name": "Python 3 (ipykernel)",
   "language": "python",
   "name": "python3"
  },
  "language_info": {
   "codemirror_mode": {
    "name": "ipython",
    "version": 3
   },
   "file_extension": ".py",
   "mimetype": "text/x-python",
   "name": "python",
   "nbconvert_exporter": "python",
   "pygments_lexer": "ipython3",
   "version": "3.11.7"
  }
 },
 "nbformat": 4,
 "nbformat_minor": 5
}
